{
  "nbformat": 4,
  "nbformat_minor": 0,
  "metadata": {
    "kernelspec": {
      "name": "python3",
      "display_name": "Python 3",
      "language": "python"
    },
    "language_info": {
      "name": "python",
      "version": "3.7.6",
      "mimetype": "text/x-python",
      "codemirror_mode": {
        "name": "ipython",
        "version": 3
      },
      "pygments_lexer": "ipython3",
      "nbconvert_exporter": "python",
      "file_extension": ".py"
    },
    "colab": {
      "name": "wide resnet101 2.ipynb",
      "provenance": [],
      "collapsed_sections": [],
      "machine_shape": "hm"
    },
    "accelerator": "GPU"
  },
  "cells": [
    {
      "cell_type": "code",
      "metadata": {
        "id": "TQ5oW92PVaal",
        "colab_type": "code",
        "outputId": "249a438d-db09-4954-c02b-bcbb6c085714",
        "colab": {
          "base_uri": "https://localhost:8080/",
          "height": 55
        }
      },
      "source": [
        "from google.colab import drive\n",
        "drive.mount('/content/drive')"
      ],
      "execution_count": 0,
      "outputs": [
        {
          "output_type": "stream",
          "text": [
            "Drive already mounted at /content/drive; to attempt to forcibly remount, call drive.mount(\"/content/drive\", force_remount=True).\n"
          ],
          "name": "stdout"
        }
      ]
    },
    {
      "cell_type": "code",
      "metadata": {
        "_uuid": "8f2839f25d086af736a60e9eeb907d3b93b6e0e5",
        "_cell_guid": "b1076dfc-b9ad-4769-8c92-a6c4dae69d19",
        "trusted": true,
        "id": "Hoby1QDXVWYT",
        "colab_type": "code",
        "outputId": "91fe4dfe-b166-4f17-d20e-630f5b95eb47",
        "colab": {
          "base_uri": "https://localhost:8080/",
          "height": 505
        }
      },
      "source": [
        "# Imports and setting up environment\n",
        "!pip install pycm livelossplot torchvision\n",
        "%pylab inline\n",
        "\n",
        "from PIL import Image\n",
        "import numpy as np\n",
        "\n",
        "import torch\n",
        "import torchvision\n",
        "import torch.nn as nn\n",
        "import torch.nn.functional as F\n",
        "from torchvision import models\n",
        "from torch.utils.data import Dataset, TensorDataset, DataLoader, random_split\n",
        "from torchvision.datasets import ImageFolder\n",
        "from torchvision.transforms import Compose, ToTensor, Normalize, RandomRotation, RandomHorizontalFlip, RandomAffine, ToPILImage, Resize\n",
        "\n",
        "from livelossplot import PlotLosses\n",
        "from pycm import *\n",
        "\n",
        "from sklearn.model_selection import StratifiedShuffleSplit\n",
        "from sklearn.metrics import accuracy_score\n",
        "\n",
        "import matplotlib.pyplot as plt\n",
        "import random\n",
        "\n",
        "# this is the same function from the lecture; included here to easily set the seed for random functions\n",
        "def set_seed(seed):\n",
        "    \"\"\"\n",
        "    Use this to set ALL the random seeds to a fixed value and take out any randomness from cuda kernels\n",
        "    \"\"\"\n",
        "    random.seed(seed)\n",
        "    np.random.seed(seed)\n",
        "    torch.manual_seed(seed)\n",
        "    torch.cuda.manual_seed_all(seed)\n",
        "\n",
        "    torch.backends.cudnn.benchmark = False  #uses the inbuilt cudnn auto-tuner to find the fastest convolution algorithms. -\n",
        "    torch.backends.cudnn.enabled  = False\n",
        "\n",
        "    return True"
      ],
      "execution_count": 0,
      "outputs": [
        {
          "output_type": "stream",
          "text": [
            "Requirement already satisfied: pycm in /usr/local/lib/python3.6/dist-packages (2.7)\n",
            "Requirement already satisfied: livelossplot in /usr/local/lib/python3.6/dist-packages (0.5.0)\n",
            "Requirement already satisfied: torchvision in /usr/local/lib/python3.6/dist-packages (0.6.0+cu101)\n",
            "Requirement already satisfied: art>=1.8 in /usr/local/lib/python3.6/dist-packages (from pycm) (4.7)\n",
            "Requirement already satisfied: numpy>=1.9.0 in /usr/local/lib/python3.6/dist-packages (from pycm) (1.18.4)\n",
            "Requirement already satisfied: ipython in /usr/local/lib/python3.6/dist-packages (from livelossplot) (5.5.0)\n",
            "Requirement already satisfied: matplotlib; python_version >= \"3.6\" in /usr/local/lib/python3.6/dist-packages (from livelossplot) (3.2.1)\n",
            "Requirement already satisfied: torch==1.5.0 in /usr/local/lib/python3.6/dist-packages (from torchvision) (1.5.0+cu101)\n",
            "Requirement already satisfied: pillow>=4.1.1 in /usr/local/lib/python3.6/dist-packages (from torchvision) (7.0.0)\n",
            "Requirement already satisfied: pygments in /usr/local/lib/python3.6/dist-packages (from ipython->livelossplot) (2.1.3)\n",
            "Requirement already satisfied: pickleshare in /usr/local/lib/python3.6/dist-packages (from ipython->livelossplot) (0.7.5)\n",
            "Requirement already satisfied: setuptools>=18.5 in /usr/local/lib/python3.6/dist-packages (from ipython->livelossplot) (46.3.0)\n",
            "Requirement already satisfied: prompt-toolkit<2.0.0,>=1.0.4 in /usr/local/lib/python3.6/dist-packages (from ipython->livelossplot) (1.0.18)\n",
            "Requirement already satisfied: traitlets>=4.2 in /usr/local/lib/python3.6/dist-packages (from ipython->livelossplot) (4.3.3)\n",
            "Requirement already satisfied: pexpect; sys_platform != \"win32\" in /usr/local/lib/python3.6/dist-packages (from ipython->livelossplot) (4.8.0)\n",
            "Requirement already satisfied: decorator in /usr/local/lib/python3.6/dist-packages (from ipython->livelossplot) (4.4.2)\n",
            "Requirement already satisfied: simplegeneric>0.8 in /usr/local/lib/python3.6/dist-packages (from ipython->livelossplot) (0.8.1)\n",
            "Requirement already satisfied: kiwisolver>=1.0.1 in /usr/local/lib/python3.6/dist-packages (from matplotlib; python_version >= \"3.6\"->livelossplot) (1.2.0)\n",
            "Requirement already satisfied: python-dateutil>=2.1 in /usr/local/lib/python3.6/dist-packages (from matplotlib; python_version >= \"3.6\"->livelossplot) (2.8.1)\n",
            "Requirement already satisfied: cycler>=0.10 in /usr/local/lib/python3.6/dist-packages (from matplotlib; python_version >= \"3.6\"->livelossplot) (0.10.0)\n",
            "Requirement already satisfied: pyparsing!=2.0.4,!=2.1.2,!=2.1.6,>=2.0.1 in /usr/local/lib/python3.6/dist-packages (from matplotlib; python_version >= \"3.6\"->livelossplot) (2.4.7)\n",
            "Requirement already satisfied: future in /usr/local/lib/python3.6/dist-packages (from torch==1.5.0->torchvision) (0.16.0)\n",
            "Requirement already satisfied: wcwidth in /usr/local/lib/python3.6/dist-packages (from prompt-toolkit<2.0.0,>=1.0.4->ipython->livelossplot) (0.1.9)\n",
            "Requirement already satisfied: six>=1.9.0 in /usr/local/lib/python3.6/dist-packages (from prompt-toolkit<2.0.0,>=1.0.4->ipython->livelossplot) (1.12.0)\n",
            "Requirement already satisfied: ipython-genutils in /usr/local/lib/python3.6/dist-packages (from traitlets>=4.2->ipython->livelossplot) (0.2.0)\n",
            "Requirement already satisfied: ptyprocess>=0.5 in /usr/local/lib/python3.6/dist-packages (from pexpect; sys_platform != \"win32\"->ipython->livelossplot) (0.6.0)\n",
            "Populating the interactive namespace from numpy and matplotlib\n"
          ],
          "name": "stdout"
        }
      ]
    },
    {
      "cell_type": "code",
      "metadata": {
        "id": "6U5WPLLLYC5Y",
        "colab_type": "code",
        "outputId": "1ac4db28-3788-4746-8230-7220efe1a65b",
        "colab": {
          "base_uri": "https://localhost:8080/",
          "height": 887
        }
      },
      "source": [
        "# Download the data\n",
        "!sudo apt-get update\n",
        "!sudo apt-get install wget\n",
        "!wget --load-cookies /tmp/cookies.txt \"https://docs.google.com/uc?export=download&confirm=$(wget --quiet --save-cookies /tmp/cookies.txt --keep-session-cookies --no-check-certificate 'https://docs.google.com/uc?export=download&id=1AL0Rh5mjPgQH3pKrWqJlxVcbuAgXbON7' -O- | sed -rn 's/.*confirm=([0-9A-Za-z_]+).*/\\1\\n/p')&id=1AL0Rh5mjPgQH3pKrWqJlxVcbuAgXbON7\" -O data.zip && rm -rf /tmp/cookies.txt\n",
        "from zipfile import ZipFile\n",
        "with ZipFile('./data.zip', 'r') as zipObj:\n",
        "    print(\"Started unzipping... \\n\")\n",
        "    # Extract all the contents of zip file in current directory\n",
        "    zipObj.extractall()\n",
        "    print(\"Files unziped sucessfully\\n\")\n",
        "!ls"
      ],
      "execution_count": 0,
      "outputs": [
        {
          "output_type": "stream",
          "text": [
            "\r0% [Working]\r            \rGet:1 http://security.ubuntu.com/ubuntu bionic-security InRelease [88.7 kB]\n",
            "\r0% [Connecting to archive.ubuntu.com (91.189.88.152)] [1 InRelease 2,586 B/88.7\r0% [Waiting for headers] [Waiting for headers] [Waiting for headers] [Waiting f\r                                                                               \rIgn:2 https://developer.download.nvidia.com/compute/cuda/repos/ubuntu1804/x86_64  InRelease\n",
            "\r0% [Waiting for headers] [Waiting for headers] [Waiting for headers] [Waiting f\r0% [1 InRelease gpgv 88.7 kB] [Waiting for headers] [Waiting for headers] [Wait\r                                                                               \rHit:3 https://cloud.r-project.org/bin/linux/ubuntu bionic-cran35/ InRelease\n",
            "\r0% [1 InRelease gpgv 88.7 kB] [Waiting for headers] [Waiting for headers] [Wait\r                                                                               \rHit:4 http://ppa.launchpad.net/graphics-drivers/ppa/ubuntu bionic InRelease\n",
            "\r                                                                               \r0% [1 InRelease gpgv 88.7 kB] [Waiting for headers] [Waiting for headers]\r                                                                         \rHit:5 http://archive.ubuntu.com/ubuntu bionic InRelease\n",
            "\r0% [1 InRelease gpgv 88.7 kB] [Waiting for headers] [Connecting to ppa.launchpa\r                                                                               \rIgn:6 https://developer.download.nvidia.com/compute/machine-learning/repos/ubuntu1804/x86_64  InRelease\n",
            "\r0% [1 InRelease gpgv 88.7 kB] [Waiting for headers] [Connecting to ppa.launchpa\r0% [Waiting for headers] [Waiting for headers] [Connecting to ppa.launchpad.net\r                                                                               \rHit:7 https://developer.download.nvidia.com/compute/cuda/repos/ubuntu1804/x86_64  Release\n",
            "\r                                                                               \r0% [Waiting for headers] [Connecting to ppa.launchpad.net (91.189.95.83)]\r0% [3 InRelease gpgv 3,626 B] [Waiting for headers] [Connecting to ppa.launchpa\r                                                                               \rHit:8 https://developer.download.nvidia.com/compute/machine-learning/repos/ubuntu1804/x86_64  Release\n",
            "\r0% [3 InRelease gpgv 3,626 B] [Waiting for headers] [Connecting to ppa.launchpa\r                                                                               \rGet:9 http://archive.ubuntu.com/ubuntu bionic-updates InRelease [88.7 kB]\n",
            "Get:10 http://ppa.launchpad.net/marutter/c2d4u3.5/ubuntu bionic InRelease [15.4 kB]\n",
            "Get:13 http://archive.ubuntu.com/ubuntu bionic-backports InRelease [74.6 kB]\n",
            "Get:14 http://ppa.launchpad.net/marutter/c2d4u3.5/ubuntu bionic/main Sources [1,818 kB]\n",
            "Fetched 2,085 kB in 2s (1,327 kB/s)\n",
            "Reading package lists... Done\n",
            "Reading package lists... Done\n",
            "Building dependency tree       \n",
            "Reading state information... Done\n",
            "wget is already the newest version (1.19.4-1ubuntu2.2).\n",
            "0 upgraded, 0 newly installed, 0 to remove and 51 not upgraded.\n",
            "--2020-05-21 17:20:05--  https://docs.google.com/uc?export=download&confirm=EZzn&id=1AL0Rh5mjPgQH3pKrWqJlxVcbuAgXbON7\n",
            "Resolving docs.google.com (docs.google.com)... 173.194.217.139, 173.194.217.138, 173.194.217.102, ...\n",
            "Connecting to docs.google.com (docs.google.com)|173.194.217.139|:443... connected.\n",
            "HTTP request sent, awaiting response... 302 Moved Temporarily\n",
            "Location: https://doc-00-0s-docs.googleusercontent.com/docs/securesc/5deghp1iup0e6tka4t3c7s5trfujdd8j/7lrnffp3cg2qilrcv75jglhat8gvfv39/1590081600000/11747609020053411276/11541828669998414515Z/1AL0Rh5mjPgQH3pKrWqJlxVcbuAgXbON7?e=download [following]\n",
            "--2020-05-21 17:20:05--  https://doc-00-0s-docs.googleusercontent.com/docs/securesc/5deghp1iup0e6tka4t3c7s5trfujdd8j/7lrnffp3cg2qilrcv75jglhat8gvfv39/1590081600000/11747609020053411276/11541828669998414515Z/1AL0Rh5mjPgQH3pKrWqJlxVcbuAgXbON7?e=download\n",
            "Resolving doc-00-0s-docs.googleusercontent.com (doc-00-0s-docs.googleusercontent.com)... 173.194.210.132, 2607:f8b0:400c:c0f::84\n",
            "Connecting to doc-00-0s-docs.googleusercontent.com (doc-00-0s-docs.googleusercontent.com)|173.194.210.132|:443... connected.\n",
            "HTTP request sent, awaiting response... 302 Found\n",
            "Location: https://docs.google.com/nonceSigner?nonce=831neatire7vs&continue=https://doc-00-0s-docs.googleusercontent.com/docs/securesc/5deghp1iup0e6tka4t3c7s5trfujdd8j/7lrnffp3cg2qilrcv75jglhat8gvfv39/1590081600000/11747609020053411276/11541828669998414515Z/1AL0Rh5mjPgQH3pKrWqJlxVcbuAgXbON7?e%3Ddownload&hash=lb7p0j3rjmj7e3i2vn4f9vgemsdk84u4 [following]\n",
            "--2020-05-21 17:20:05--  https://docs.google.com/nonceSigner?nonce=831neatire7vs&continue=https://doc-00-0s-docs.googleusercontent.com/docs/securesc/5deghp1iup0e6tka4t3c7s5trfujdd8j/7lrnffp3cg2qilrcv75jglhat8gvfv39/1590081600000/11747609020053411276/11541828669998414515Z/1AL0Rh5mjPgQH3pKrWqJlxVcbuAgXbON7?e%3Ddownload&hash=lb7p0j3rjmj7e3i2vn4f9vgemsdk84u4\n",
            "Connecting to docs.google.com (docs.google.com)|173.194.217.139|:443... connected.\n",
            "HTTP request sent, awaiting response... 302 Found\n",
            "Location: https://doc-00-0s-docs.googleusercontent.com/docs/securesc/5deghp1iup0e6tka4t3c7s5trfujdd8j/7lrnffp3cg2qilrcv75jglhat8gvfv39/1590081600000/11747609020053411276/11541828669998414515Z/1AL0Rh5mjPgQH3pKrWqJlxVcbuAgXbON7?e=download&nonce=831neatire7vs&user=11541828669998414515Z&hash=b5qgjnoemj8h4nq8spvf341ukqamd046 [following]\n",
            "--2020-05-21 17:20:05--  https://doc-00-0s-docs.googleusercontent.com/docs/securesc/5deghp1iup0e6tka4t3c7s5trfujdd8j/7lrnffp3cg2qilrcv75jglhat8gvfv39/1590081600000/11747609020053411276/11541828669998414515Z/1AL0Rh5mjPgQH3pKrWqJlxVcbuAgXbON7?e=download&nonce=831neatire7vs&user=11541828669998414515Z&hash=b5qgjnoemj8h4nq8spvf341ukqamd046\n",
            "Connecting to doc-00-0s-docs.googleusercontent.com (doc-00-0s-docs.googleusercontent.com)|173.194.210.132|:443... connected.\n",
            "HTTP request sent, awaiting response... 200 OK\n",
            "Length: unspecified [application/zip]\n",
            "Saving to: ‘data.zip’\n",
            "\n",
            "data.zip                [       <=>          ] 256.54M   161MB/s    in 1.6s    \n",
            "\n",
            "2020-05-21 17:20:07 (161 MB/s) - ‘data.zip’ saved [269003169]\n",
            "\n",
            "Started unzipping... \n",
            "\n",
            "Files unziped sucessfully\n",
            "\n",
            "data.zip  __MACOSX\tmapping.py\t\t\t   sample_data\ttrain\n",
            "drive\t  mapping.json\tresnet101_output_no_da_drop_4.csv  test\n"
          ],
          "name": "stdout"
        }
      ]
    },
    {
      "cell_type": "code",
      "metadata": {
        "_uuid": "d629ff2d2480ee46fbb7e2d37f6b5fab8052498a",
        "_cell_guid": "79c7e3d0-c299-4dcb-8224-4455121ee9b0",
        "trusted": true,
        "id": "QTgKrji5VWYZ",
        "colab_type": "code",
        "outputId": "305d7e20-045e-4aab-fe24-bc0bbfefba14",
        "colab": {
          "base_uri": "https://localhost:8080/",
          "height": 191
        }
      },
      "source": [
        "# Load our path\n",
        "import os\n",
        "path = './'\n",
        "os.listdir(path)"
      ],
      "execution_count": 0,
      "outputs": [
        {
          "output_type": "execute_result",
          "data": {
            "text/plain": [
              "['.config',\n",
              " 'resnet101_output_no_da_drop_4.csv',\n",
              " 'data.zip',\n",
              " 'drive',\n",
              " 'train',\n",
              " 'mapping.py',\n",
              " '__MACOSX',\n",
              " 'mapping.json',\n",
              " 'test',\n",
              " 'sample_data']"
            ]
          },
          "metadata": {
            "tags": []
          },
          "execution_count": 5
        }
      ]
    },
    {
      "cell_type": "code",
      "metadata": {
        "trusted": true,
        "id": "T37vp6MrVWYc",
        "colab_type": "code",
        "outputId": "f5154e40-17bd-461c-bc5f-3d65b86e297a",
        "colab": {
          "base_uri": "https://localhost:8080/",
          "height": 35
        }
      },
      "source": [
        "# set the device to GPU if available:\n",
        "device = 'cpu'\n",
        "if torch.cuda.device_count() > 0 and torch.cuda.is_available():\n",
        "    print(\"Cuda installed! Running on GPU!\")\n",
        "    device = 'cuda'\n",
        "else:\n",
        "    print(\"No GPU available!\")"
      ],
      "execution_count": 0,
      "outputs": [
        {
          "output_type": "stream",
          "text": [
            "Cuda installed! Running on GPU!\n"
          ],
          "name": "stdout"
        }
      ]
    },
    {
      "cell_type": "code",
      "metadata": {
        "trusted": true,
        "id": "RQolFOd6VWYg",
        "colab_type": "code",
        "colab": {}
      },
      "source": [
        "# Create DataSets and DataLoader\n",
        "train_transform = Compose([\n",
        "#     RandomHorizontalFlip(),\n",
        "#     RandomRotation(10),\n",
        "    Resize((224, 224)),\n",
        "    ToTensor(),\n",
        "    Normalize(mean=[0.485, 0.456, 0.406], std=[0.229, 0.224, 0.225])\n",
        "])\n",
        "\n",
        "test_transform = Compose([\n",
        "    Resize((224, 224)),\n",
        "    ToTensor(),\n",
        "    Normalize(mean=[0.485, 0.456, 0.406], std=[0.229, 0.224, 0.225])\n",
        "])\n",
        "\n",
        "# Open the data through ImageFolder()\n",
        "train_set = ImageFolder(path+'train', transform=train_transform)\n",
        "test_set = ImageFolder(path+'test', transform=test_transform)"
      ],
      "execution_count": 0,
      "outputs": []
    },
    {
      "cell_type": "code",
      "metadata": {
        "trusted": true,
        "id": "Jyl7ExWmVWYj",
        "colab_type": "code",
        "outputId": "91aefbd8-1326-47d7-e4c0-bd10703ab9a8",
        "colab": {
          "base_uri": "https://localhost:8080/",
          "height": 35
        }
      },
      "source": [
        "# Split training and validation sets\n",
        "train_data, val_data = torch.utils.data.random_split(train_set, [90000, 10000])\n",
        "\n",
        "batch_size = 64\n",
        "test_batch_size = 500\n",
        "\n",
        "# DataLoader\n",
        "train_loader = DataLoader(train_data, batch_size=batch_size, shuffle=True, num_workers=0)\n",
        "val_loader = DataLoader(val_data, batch_size=test_batch_size, shuffle=False, num_workers=0)\n",
        "# check length\n",
        "print(len(train_loader),len(val_loader))"
      ],
      "execution_count": 0,
      "outputs": [
        {
          "output_type": "stream",
          "text": [
            "1407 20\n"
          ],
          "name": "stdout"
        }
      ]
    },
    {
      "cell_type": "code",
      "metadata": {
        "trusted": true,
        "id": "wyZK8b2FVWYm",
        "colab_type": "code",
        "colab": {}
      },
      "source": [
        "# Functions for WRN-101 training, validating and evaluating\n",
        "def train(model, optimizer, criterion, data_loader):\n",
        "    model.train()\n",
        "    train_loss, train_accuracy = 0, 0\n",
        "    for X, y in data_loader:\n",
        "        X, y = X.to(device), y.to(device)\n",
        "        optimizer.zero_grad()\n",
        "        a2 = model(X.view(-1, 3, 224, 224))   # image size now 224\n",
        "        loss = criterion(a2, y)\n",
        "        loss.backward()\n",
        "        train_loss += loss*X.size(0)\n",
        "        y_pred = F.log_softmax(a2, dim=1).max(1)[1]\n",
        "        train_accuracy += accuracy_score(y.cpu().numpy(), y_pred.detach().cpu().numpy())*X.size(0)\n",
        "        optimizer.step()      \n",
        "    return train_loss/len(data_loader.dataset), train_accuracy/len(data_loader.dataset)\n",
        "  \n",
        "def validate(model, criterion, data_loader):\n",
        "    model.eval()\n",
        "    validation_loss, validation_accuracy = 0., 0.\n",
        "    for X, y in data_loader:\n",
        "        with torch.no_grad():\n",
        "            X, y = X.to(device), y.to(device)\n",
        "            a2 = model(X.view(-1, 3, 224, 224))   \n",
        "            loss = criterion(a2, y)\n",
        "            validation_loss += loss*X.size(0)\n",
        "            y_pred = F.log_softmax(a2, dim=1).max(1)[1]\n",
        "            validation_accuracy += accuracy_score(y.cpu().numpy(), y_pred.cpu().numpy())*X.size(0)\n",
        "    return validation_loss/len(data_loader.dataset), validation_accuracy/len(data_loader.dataset)\n",
        "  \n",
        "def evaluate(model, data_loader):\n",
        "    model.eval()\n",
        "    ys, y_preds = [], []\n",
        "    i = 0\n",
        "    for X, y in data_loader:\n",
        "        with torch.no_grad():\n",
        "            X, y = X.to(device), y.to(device)\n",
        "            a2 = model(X.view(-1, 3, 224, 224))\n",
        "            y_pred = F.log_softmax(a2, dim=1).max(1)[1]\n",
        "            ys.append(y.cpu().numpy())\n",
        "            y_preds.append(y_pred.cpu().numpy())\n",
        "    return np.concatenate(y_preds, 0),  np.concatenate(ys, 0)"
      ],
      "execution_count": 0,
      "outputs": []
    },
    {
      "cell_type": "code",
      "metadata": {
        "id": "8wn-Jg9_uapx",
        "colab_type": "code",
        "colab": {}
      },
      "source": [
        "## We have the code of training model, \n",
        "## but for final submission we need to train on full data set\n",
        "\n",
        "# set_seed(seed)\n",
        "# model_rn = models.wide_resnet101_2(pretrained=True).cuda() # use pretrained since ImageNet is relevant to this dataset\n",
        "# num_fils = model_rn.fc.in_features\n",
        "# model_rn.fc = nn.Sequential(\n",
        "#             # nn.Dropout(),\n",
        "#             nn.Linear(num_fils, 200)).cuda()  # modify output to 200 classes\n",
        "# model_rn = nn.DataParallel(model_rn)\n",
        "# print(\"model finish\")\n",
        "# # decide to train all parameters because from coursework, this will give much higher accuracy\n",
        "# optimizer = torch.optim.SGD(model_rn.parameters() , lr=lr, momentum=momentum, weight_decay=0) \n",
        "# criterion = nn.CrossEntropyLoss()\n",
        "# liveloss = PlotLosses()\n",
        "\n",
        "# # Train resnet model\n",
        "# for epoch in range(n_epochs):\n",
        "#     logs = {}\n",
        "#     train_loss, train_accuracy = train(model_rn, optimizer, criterion, train_loader)\n",
        "\n",
        "#     logs['' + 'log loss'] = train_loss.item()\n",
        "#     logs['' + 'accuracy'] = train_accuracy.item()\n",
        "\n",
        "#     validation_loss, validation_accuracy = validate(model_rn, criterion, val_loader)\n",
        "#     logs['val_' + 'log loss'] = validation_loss.item()\n",
        "#     logs['val_' + 'accuracy'] = validation_accuracy.item()\n",
        "\n",
        "#     liveloss.update(logs)\n",
        "#     liveloss.draw()"
      ],
      "execution_count": 0,
      "outputs": []
    },
    {
      "cell_type": "code",
      "metadata": {
        "id": "_2aqq2h-Ruk7",
        "colab_type": "code",
        "colab": {}
      },
      "source": [
        "# CNN Parameters\n",
        "weight_decay = 0\n",
        "seed = 42\n",
        "lr = 1e-2\n",
        "momentum = 0.5\n",
        "batch_size = 64\n",
        "test_batch_size = 500\n",
        "n_epochs = 4"
      ],
      "execution_count": 0,
      "outputs": []
    },
    {
      "cell_type": "code",
      "metadata": {
        "id": "G0NNHz3kldHT",
        "colab_type": "code",
        "colab": {}
      },
      "source": [
        "# Create DataSets and DataLoader\n",
        "full_train_transform = Compose([\n",
        "    # RandomHorizontalFlip(),\n",
        "    # RandomRotation(10),\n",
        "    Resize((224, 224)),\n",
        "    ToTensor(),\n",
        "    Normalize(mean=[0.485, 0.456, 0.406], std=[0.229, 0.224, 0.225])\n",
        "])\n",
        "\n",
        "test_transform = Compose([\n",
        "    Resize((224, 224)),\n",
        "    ToTensor(),\n",
        "    Normalize(mean=[0.485, 0.456, 0.406], std=[0.229, 0.224, 0.225])\n",
        "])\n",
        "\n",
        "full_train_set = ImageFolder(path+'train', transform=train_transform)\n",
        "test_set = ImageFolder(path+'test', transform=test_transform)\n",
        "\n",
        "full_train_loader = DataLoader(full_train_set, batch_size=batch_size, shuffle=True, num_workers=0)\n",
        "test_loader = DataLoader(test_set, batch_size=test_batch_size, shuffle=False, num_workers=0)"
      ],
      "execution_count": 0,
      "outputs": []
    },
    {
      "cell_type": "code",
      "metadata": {
        "id": "5YS_MG8Zuli4",
        "colab_type": "code",
        "outputId": "f29ba99c-4bc8-4373-b1ce-125f583c82b4",
        "colab": {
          "base_uri": "https://localhost:8080/",
          "height": 395
        }
      },
      "source": [
        "# Train model_rn\n",
        "set_seed(seed)\n",
        "model_rn = models.wide_resnet101_2(pretrained=True).cuda() # use pretrained since ImageNet is relevant to this dataset\n",
        "num_fils = model_rn.fc.in_features\n",
        "model_rn.fc = nn.Sequential(\n",
        "            # nn.Dropout(),\n",
        "            nn.Linear(num_fils, 200)).cuda()  # modify output to 200 classes\n",
        "model_rn = nn.DataParallel(model_rn)\n",
        "print(\"model finish\")\n",
        "# decide to train all parameters because from coursework, this will give much higher accuracy\n",
        "optimizer = torch.optim.SGD(model_rn.parameters() , lr=lr, momentum=momentum, weight_decay=0) \n",
        "criterion = nn.CrossEntropyLoss()\n",
        "liveloss = PlotLosses()\n",
        "\n",
        "# Train resnet model\n",
        "for epoch in range(n_epochs):\n",
        "    logs = {}\n",
        "    train_loss, train_accuracy = train(model_rn, optimizer, criterion, full_train_loader)\n",
        "\n",
        "    logs['' + 'log loss'] = train_loss.item()\n",
        "    logs['' + 'accuracy'] = train_accuracy.item()\n",
        "    \n",
        "    liveloss.update(logs)\n",
        "    liveloss.draw()\n",
        "    \n",
        "    logs['val_' + 'log loss'] = 0.\n",
        "    logs['val_' + 'accuracy'] = 0.\n",
        "\n",
        "    # For each epoch save model\n",
        "    model_save_name = 'RESNET_WO_AUG.pth' \n",
        "    path = F\"./{model_save_name}\"\n",
        "    torch.save(model_rn.state_dict(), path)"
      ],
      "execution_count": 0,
      "outputs": [
        {
          "output_type": "display_data",
          "data": {
            "image/png": "[encoded data removed]",
            "text/plain": [
              "<Figure size 864x576 with 2 Axes>"
            ]
          },
          "metadata": {
            "tags": [],
            "needs_background": "light"
          }
        },
        {
          "output_type": "stream",
          "text": [
            "accuracy\n",
            "\taccuracy         \t (min:    0.713, max:    0.985, cur:    0.985)\n",
            "log loss\n",
            "\tlog loss         \t (min:    0.076, max:    1.447, cur:    0.076)\n"
          ],
          "name": "stdout"
        }
      ]
    },
    {
      "cell_type": "code",
      "metadata": {
        "id": "empVOmHbQiom",
        "colab_type": "code",
        "colab": {}
      },
      "source": [
        "# Store submission to csv file\n",
        "test_set = ImageFolder(path+'test', transform=test_transform)\n",
        "test_loader = DataLoader(test_set, batch_size=1, shuffle=False, num_workers=0)\n",
        "y_pred, y_gt = evaluate(model_rn, test_loader)\n",
        "\n",
        "out = np.array([y_pred])\n",
        "\n",
        "import pandas as pd\n",
        "output = pd.DataFrame(out.T)\n",
        "output.to_csv('resnet101_output_no_da_drop_4.csv')"
      ],
      "execution_count": 0,
      "outputs": []
    },
    {
      "cell_type": "code",
      "metadata": {
        "id": "eGM_YhB5Tn4K",
        "colab_type": "code",
        "outputId": "08df81e8-f000-4d47-8ef0-ac9be011f223",
        "colab": {
          "base_uri": "https://localhost:8080/",
          "height": 35
        }
      },
      "source": [
        "!pwd"
      ],
      "execution_count": 0,
      "outputs": [
        {
          "output_type": "stream",
          "text": [
            "/content\n"
          ],
          "name": "stdout"
        }
      ]
    },
    {
      "cell_type": "code",
      "metadata": {
        "id": "QwjBRRGYt-3o",
        "colab_type": "code",
        "outputId": "0bc47c29-0067-45e7-d704-4d1861f9c7ea",
        "colab": {
          "base_uri": "https://localhost:8080/",
          "height": 35
        }
      },
      "source": [
        "# Move model and submission file to Google Drive main folder\n",
        "import shutil, sys                                                                                                                                                    \n",
        "shutil.move(\"./resnet101_output_no_da_drop_4.csv\", \"./drive/My Drive/\") \n",
        "shutil.move(\"./RESNET_WO_AUG.pth\", \"./drive/My Drive/\")"
      ],
      "execution_count": 0,
      "outputs": [
        {
          "output_type": "execute_result",
          "data": {
            "text/plain": [
              "'./drive/My Drive/RESNET_DROPOUT_WO_AUG.pth'"
            ]
          },
          "metadata": {
            "tags": []
          },
          "execution_count": 21
        }
      ]
    }
  ]
}